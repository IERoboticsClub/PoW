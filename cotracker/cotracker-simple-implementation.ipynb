{
 "cells": [
  {
   "cell_type": "code",
   "execution_count": 1,
   "id": "e37d20cd",
   "metadata": {},
   "outputs": [],
   "source": [
    "import torch\n",
    "import timm\n",
    "import einops\n",
    "import tqdm\n",
    "import cv2 as cv2\n",
    "import numpy as np\n",
    "import time\n",
    "import os\n",
    "import sys\n",
    "from visualizer import Visualizer\n",
    "import cv2\n",
    "import time\n",
    "from IPython.display import display, clear_output"
   ]
  },
  {
   "cell_type": "code",
   "execution_count": 25,
   "id": "fb8b0e64",
   "metadata": {},
   "outputs": [],
   "source": [
    "def record_video(duration=5, video_name=\"output.mp4\"):\n",
    "    # Initialize webcam\n",
    "    cap = cv2.VideoCapture(0)\n",
    "    \n",
    "    # Define video codec and create VideoWriter object\n",
    "    fourcc = cv2.VideoWriter_fourcc(*'mp4v')\n",
    "    out = cv2.VideoWriter(video_name, fourcc, 20.0, (640, 480))\n",
    "    \n",
    "    start_time = time.time()\n",
    "    \n",
    "    while True:\n",
    "        # Capture frame-by-frame\n",
    "        ret, frame = cap.read()\n",
    "        \n",
    "        if ret:\n",
    "            # Write the frame to the output video\n",
    "            out.write(frame)\n",
    "            \n",
    "            # Display the frame in Jupyter Notebook\n",
    "            clear_output(wait=True)\n",
    "            display(cv2.imencode('.jpg', frame)[1].tostring())\n",
    "        \n",
    "        # Stop recording after the specified duration\n",
    "        if time.time() - start_time > duration:\n",
    "            break\n",
    "    \n",
    "    # Release the webcam and output video\n",
    "    cap.release()\n",
    "    out.release()\n",
    "    cv2.destroyAllWindows()\n",
    "    return video_name"
   ]
  },
  {
   "cell_type": "code",
   "execution_count": 3,
   "id": "72968d08",
   "metadata": {},
   "outputs": [],
   "source": [
    "def load_video(pth):\n",
    "    video = cv2.VideoCapture(pth)\n",
    "    video.set(cv2.CAP_PROP_FRAME_WIDTH, 640)\n",
    "    video.set(cv2.CAP_PROP_FRAME_HEIGHT, 480)\n",
    "    video.set(cv2.CAP_PROP_FPS, 30)\n",
    "    buffer = []\n",
    "    while True:\n",
    "        ret, frame = video.read()\n",
    "        if not ret:\n",
    "            break\n",
    "        buffer.append(frame)\n",
    "    return video, buffer"
   ]
  },
  {
   "cell_type": "code",
   "execution_count": null,
   "id": "95a90f04",
   "metadata": {},
   "outputs": [],
   "source": [
    "# Run the function to record a 5-second video\n",
    "vid = record_video(5, \"my_video.mp4\")\n",
    "# or optionally set the vid varaible to the path of where you video is"
   ]
  },
  {
   "cell_type": "code",
   "execution_count": 4,
   "id": "e13bfe35",
   "metadata": {},
   "outputs": [
    {
     "name": "stderr",
     "output_type": "stream",
     "text": [
      "Using cache found in /home/velocitatem/.cache/torch/hub/facebookresearch_co-tracker_main\n"
     ]
    }
   ],
   "source": [
    "cotracker = torch.hub.load(\"facebookresearch/co-tracker\", \"cotracker_w8\")"
   ]
  },
  {
   "cell_type": "code",
   "execution_count": 5,
   "id": "b9f59c88",
   "metadata": {},
   "outputs": [],
   "source": [
    "video, buffer = load_video(vid)\n",
    "video_tensor = torch.from_numpy(np.array(buffer)).permute(0, 3, 1, 2)[None].float()"
   ]
  },
  {
   "cell_type": "code",
   "execution_count": 11,
   "id": "cd94cad8",
   "metadata": {},
   "outputs": [],
   "source": [
    "if torch.cuda.is_available():\n",
    "    cotracker = cotracker.cuda()\n",
    "    video_tensor = video_torch.cuda()"
   ]
  },
  {
   "cell_type": "code",
   "execution_count": 12,
   "id": "69c65b1f",
   "metadata": {},
   "outputs": [],
   "source": [
    "tracks, visibility = cotracker(\n",
    "    video_tensor,\n",
    "    grid_size=4,\n",
    "    grid_query_frame=0,\n",
    "    backward_tracking=False\n",
    ")"
   ]
  },
  {
   "cell_type": "code",
   "execution_count": 13,
   "id": "fd7fdfa2",
   "metadata": {},
   "outputs": [
    {
     "name": "stdout",
     "output_type": "stream",
     "text": [
      "torch.Size([1, 145, 16, 2])\n",
      "torch.Size([1, 145, 16])\n"
     ]
    }
   ],
   "source": [
    "print(tracks.shape)\n",
    "print(visibility.shape)"
   ]
  },
  {
   "cell_type": "code",
   "execution_count": 14,
   "id": "4849630f",
   "metadata": {},
   "outputs": [],
   "source": [
    "np.save(\"tracks.npy\", tracks.cpu().numpy())\n",
    "np.save(\"visibility.npy\", visibility.cpu().numpy())"
   ]
  },
  {
   "cell_type": "code",
   "execution_count": 15,
   "id": "8a9add75",
   "metadata": {},
   "outputs": [],
   "source": [
    "from visualizer import Visualizer"
   ]
  },
  {
   "cell_type": "code",
   "execution_count": 18,
   "id": "46a07eb3",
   "metadata": {},
   "outputs": [],
   "source": [
    "vis = Visualizer(\n",
    "    save_dir=\"./\",\n",
    "    grayscale=False,\n",
    "    pad_value=100,\n",
    "    fps=30,\n",
    "    linewidth=2,\n",
    "    show_first_frame=5,\n",
    "    tracks_leave_trace=0\n",
    ")"
   ]
  },
  {
   "cell_type": "code",
   "execution_count": 22,
   "id": "58a3f066",
   "metadata": {},
   "outputs": [
    {
     "name": "stdout",
     "output_type": "stream",
     "text": [
      "Video saved to ./my_video_tracked_pred_track.mp4\n"
     ]
    }
   ],
   "source": [
    "file = vis.visualize(\n",
    "    video_tensor,\n",
    "    tracks=tracks,\n",
    "    visibility=visibility,\n",
    "    filename=\"my_video_tracked\",\n",
    "    query_frame=0,\n",
    "    )"
   ]
  },
  {
   "cell_type": "code",
   "execution_count": 24,
   "id": "55f56b20",
   "metadata": {},
   "outputs": [
    {
     "data": {
      "text/html": [
       "<video src=\"./my_video_tracked_pred_track.mp4\" controls  >\n",
       "      Your browser does not support the <code>video</code> element.\n",
       "    </video>"
      ],
      "text/plain": [
       "<IPython.core.display.Video object>"
      ]
     },
     "execution_count": 24,
     "metadata": {},
     "output_type": "execute_result"
    }
   ],
   "source": [
    "from IPython.display import Video\n",
    "\n",
    "Video(\"./my_video_tracked_pred_track.mp4\")"
   ]
  }
 ],
 "metadata": {
  "kernelspec": {
   "display_name": "Python 3 (ipykernel)",
   "language": "python",
   "name": "python3"
  },
  "language_info": {
   "codemirror_mode": {
    "name": "ipython",
    "version": 3
   },
   "file_extension": ".py",
   "mimetype": "text/x-python",
   "name": "python",
   "nbconvert_exporter": "python",
   "pygments_lexer": "ipython3",
   "version": "3.11.5"
  }
 },
 "nbformat": 4,
 "nbformat_minor": 5
}
